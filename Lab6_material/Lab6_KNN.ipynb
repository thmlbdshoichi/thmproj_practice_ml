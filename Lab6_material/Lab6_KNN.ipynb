{
 "cells": [
  {
   "cell_type": "markdown",
   "metadata": {},
   "source": [
    "# La6 : Data Classification (k-Nearest Neighbor)\n",
    "#### (Lab6_KNN.ipynb)"
   ]
  },
  {
   "cell_type": "markdown",
   "metadata": {},
   "source": [
    "###### In this lab, you will learn how to perform data classifcation (k-Nearest Neighbor) with Python\n",
    "The Python packages that were used for writing this notebook are listed below:\n",
    "1. pandas\n",
    "2. matplotlib\n",
    "3. scikit-learn\n",
    "\n",
    "The steps for data classification included in this lab are:\n",
    "1. Importing Python packages \n",
    "2. Reading a dataset\n",
    "3. Data Pre-processing: Data Cleaning & Feature Engineering (if needed)\n",
    "4. Normalization\n",
    "5. Overall Steps of KNN Classification\n",
    "6. Model Evaluation\n",
    "7. KNN: Choosing an optimal k value\n",
    "8. KNN: Model Creation\n",
    "9. KNN: Deploying the model"
   ]
  },
  {
   "cell_type": "markdown",
   "metadata": {},
   "source": [
    "### Problem and Dataset Description\n",
    "\n",
    "#### Problem: Prediction of Iris plant class for new sample(s)\n",
    "\n",
    "###### Iris dataset \n",
    "The most popular data set for Classification (supervised learning)\n",
    "\n",
    "150 samples with 4 features: sepal length, sepal width, petal length and petal width (in cm) \n",
    "\n",
    "3 class: Iris Setosa (50 samples), Iris Versicolour (50 samples), Iris Virginica (50 samples)\n",
    "\n",
    "Reference: https://archive.ics.uci.edu/ml/datasets/iris"
   ]
  },
  {
   "cell_type": "markdown",
   "metadata": {},
   "source": [
    "### 1. Importing Python packages"
   ]
  },
  {
   "cell_type": "code",
   "execution_count": 2,
   "metadata": {},
   "outputs": [],
   "source": [
    "import pandas as pd\n",
    "import matplotlib.pyplot as plt"
   ]
  },
  {
   "cell_type": "markdown",
   "metadata": {},
   "source": [
    "### 2. Reading a dataset"
   ]
  },
  {
   "cell_type": "code",
   "execution_count": 3,
   "metadata": {},
   "outputs": [],
   "source": [
    "df = pd.read_csv('iris.csv')"
   ]
  },
  {
   "cell_type": "markdown",
   "metadata": {},
   "source": [
    "### 3. Data Exploration and Data Pre-processing"
   ]
  },
  {
   "cell_type": "markdown",
   "metadata": {},
   "source": [
    "#### 3.1 Basic Exploration"
   ]
  },
  {
   "cell_type": "code",
   "execution_count": 4,
   "metadata": {},
   "outputs": [
    {
     "output_type": "execute_result",
     "data": {
      "text/plain": [
       "(150, 5)"
      ]
     },
     "metadata": {},
     "execution_count": 4
    }
   ],
   "source": [
    "# Display how many rows and columns\n",
    "df.shape"
   ]
  },
  {
   "cell_type": "code",
   "execution_count": 5,
   "metadata": {},
   "outputs": [
    {
     "output_type": "execute_result",
     "data": {
      "text/plain": [
       "   sepal_length  sepal_width  petal_length  petal_width species\n",
       "0           5.1          3.5           1.4          0.2  setosa\n",
       "1           4.9          3.0           1.4          0.2  setosa\n",
       "2           4.7          3.2           1.3          0.2  setosa\n",
       "3           4.6          3.1           1.5          0.2  setosa\n",
       "4           5.0          3.6           1.4          0.2  setosa"
      ],
      "text/html": "<div>\n<style scoped>\n    .dataframe tbody tr th:only-of-type {\n        vertical-align: middle;\n    }\n\n    .dataframe tbody tr th {\n        vertical-align: top;\n    }\n\n    .dataframe thead th {\n        text-align: right;\n    }\n</style>\n<table border=\"1\" class=\"dataframe\">\n  <thead>\n    <tr style=\"text-align: right;\">\n      <th></th>\n      <th>sepal_length</th>\n      <th>sepal_width</th>\n      <th>petal_length</th>\n      <th>petal_width</th>\n      <th>species</th>\n    </tr>\n  </thead>\n  <tbody>\n    <tr>\n      <th>0</th>\n      <td>5.1</td>\n      <td>3.5</td>\n      <td>1.4</td>\n      <td>0.2</td>\n      <td>setosa</td>\n    </tr>\n    <tr>\n      <th>1</th>\n      <td>4.9</td>\n      <td>3.0</td>\n      <td>1.4</td>\n      <td>0.2</td>\n      <td>setosa</td>\n    </tr>\n    <tr>\n      <th>2</th>\n      <td>4.7</td>\n      <td>3.2</td>\n      <td>1.3</td>\n      <td>0.2</td>\n      <td>setosa</td>\n    </tr>\n    <tr>\n      <th>3</th>\n      <td>4.6</td>\n      <td>3.1</td>\n      <td>1.5</td>\n      <td>0.2</td>\n      <td>setosa</td>\n    </tr>\n    <tr>\n      <th>4</th>\n      <td>5.0</td>\n      <td>3.6</td>\n      <td>1.4</td>\n      <td>0.2</td>\n      <td>setosa</td>\n    </tr>\n  </tbody>\n</table>\n</div>"
     },
     "metadata": {},
     "execution_count": 5
    }
   ],
   "source": [
    "# Display the first 5 rows\n",
    "df.head()"
   ]
  },
  {
   "cell_type": "code",
   "execution_count": 6,
   "metadata": {},
   "outputs": [
    {
     "output_type": "execute_result",
     "data": {
      "text/plain": [
       "sepal_length    float64\n",
       "sepal_width     float64\n",
       "petal_length    float64\n",
       "petal_width     float64\n",
       "species          object\n",
       "dtype: object"
      ]
     },
     "metadata": {},
     "execution_count": 6
    }
   ],
   "source": [
    "# Display data types of each column\n",
    "df.dtypes"
   ]
  },
  {
   "cell_type": "code",
   "execution_count": 7,
   "metadata": {},
   "outputs": [
    {
     "output_type": "execute_result",
     "data": {
      "text/plain": [
       "sepal_length    0\n",
       "sepal_width     0\n",
       "petal_length    0\n",
       "petal_width     0\n",
       "species         0\n",
       "dtype: int64"
      ]
     },
     "metadata": {},
     "execution_count": 7
    }
   ],
   "source": [
    "# Finding missing values for each feature:\n",
    "df.isnull().sum()\n",
    "\n",
    "# Percentages of missing values for each feature\n",
    "#df.isnull().sum()/len(df)*100"
   ]
  },
  {
   "cell_type": "code",
   "execution_count": 8,
   "metadata": {},
   "outputs": [
    {
     "output_type": "execute_result",
     "data": {
      "text/plain": [
       "0"
      ]
     },
     "metadata": {},
     "execution_count": 8
    }
   ],
   "source": [
    "# Finding missing values for each sample:\n",
    "#df.isnull().sum(axis=1)\n",
    "df.isnull().sum(axis=1).sum()\n",
    "\n",
    "#Percentages of missing values for each sample:\n",
    "#df.isnull().sum(axis=1)/len(df.columns)*100"
   ]
  },
  {
   "cell_type": "markdown",
   "metadata": {},
   "source": [
    "#### 3.2 Defining Features (X) and Class (Y)"
   ]
  },
  {
   "cell_type": "code",
   "execution_count": 9,
   "metadata": {},
   "outputs": [],
   "source": [
    "# Defining data features using column names\n",
    "X = df[['sepal_length', 'sepal_width', 'petal_length', 'petal_width']]\n",
    "\n",
    "# ======= Alternatives ======= #\n",
    "# Defining data features using column positions\n",
    "#X = df.iloc[:,0:4] "
   ]
  },
  {
   "cell_type": "code",
   "execution_count": 10,
   "metadata": {},
   "outputs": [],
   "source": [
    "# Defining class using column position (Last Column)\n",
    "Y = df.iloc[:,-1]  # -1 is for the last column\n",
    "\n",
    "# ======= Alternatives ======= #\n",
    "#Y = df.iloc[:,4]  # Defining class using column position\n",
    "#Y = df[['species']] # Defining class using column name"
   ]
  },
  {
   "cell_type": "markdown",
   "metadata": {},
   "source": [
    "#### 3.3 Normalization\n",
    "Standardize the features uisng the StandardScaler class from scikit-learn's preprocessing module."
   ]
  },
  {
   "cell_type": "code",
   "execution_count": 11,
   "metadata": {},
   "outputs": [],
   "source": [
    "from sklearn.preprocessing import StandardScaler\n",
    "sc = StandardScaler()\n",
    "sc.fit(X)\n",
    "X = sc.transform(X)"
   ]
  },
  {
   "cell_type": "markdown",
   "metadata": {},
   "source": [
    "### 5. Overall Steps of KNN Classification\n",
    "Use scikit-learn 4-step modeling pattern."
   ]
  },
  {
   "cell_type": "code",
   "execution_count": 12,
   "metadata": {},
   "outputs": [
    {
     "output_type": "execute_result",
     "data": {
      "text/plain": [
       "array(['setosa', 'versicolor'], dtype=object)"
      ]
     },
     "metadata": {},
     "execution_count": 12
    }
   ],
   "source": [
    "#Step 1: Import the sklearn class\n",
    "#Import \"KNeighborsClassifier\"\n",
    "from sklearn.neighbors import KNeighborsClassifier\n",
    "\n",
    "#Step 2: Create the model object with paramenters\n",
    "#Create an instance of KNeighborsClassifier with k=1 and use Euclidean distance metric \n",
    "knn = KNeighborsClassifier(n_neighbors=1, metric = 'euclidean')\n",
    "\n",
    "#Step 3: Fit the model with data (i.e., \"model training\")\n",
    "#Model is learning the relationship between data (X) and class(Y)\n",
    "knn.fit(X, Y)\n",
    "\n",
    "#Step 4: Predict the class label(s) for new data instance(s)\n",
    "#Use the information it learned during the model training process\n",
    "X_new = [[3, 5, 4, 2], [5, 4, 3, 2]]  # (4.1) define/import 2 new instances\n",
    "X_new = sc.transform(X_new) # (4.2) normalize them using the normalization model created previously (sc is StandardScaler)\n",
    "knn.predict(X_new) # (4.3) predict their class lables"
   ]
  },
  {
   "cell_type": "markdown",
   "metadata": {},
   "source": [
    "### 6.  Model Evaluation"
   ]
  },
  {
   "cell_type": "markdown",
   "metadata": {},
   "source": [
    "#### 6.1 Train and Test on the Entire Dataset"
   ]
  },
  {
   "cell_type": "code",
   "execution_count": 13,
   "metadata": {},
   "outputs": [
    {
     "output_type": "stream",
     "name": "stdout",
     "text": [
      "Training Accuracy:  1.0\nTraining Classification Error:  0.0\nConfusion matrix:\n[[50  0  0]\n [ 0 50  0]\n [ 0  0 50]]\n"
     ]
    }
   ],
   "source": [
    "from sklearn.neighbors import KNeighborsClassifier\n",
    "from sklearn import metrics\n",
    "\n",
    "# Initialize the knn model with k = 1\n",
    "knn = KNeighborsClassifier(n_neighbors=1, metric = 'euclidean')\n",
    "\n",
    "# Fit the model to the whole dataset\n",
    "knn.fit(X, Y)\n",
    "\n",
    "# Predict classes of training set\n",
    "y_pred = knn.predict(X)\n",
    "\n",
    "# Evaluate model performace\n",
    "ac = metrics.accuracy_score(Y, y_pred)\n",
    "print('Training Accuracy: ', ac)\n",
    "print('Training Classification Error: ', 1-ac)\n",
    "print('Confusion matrix:')\n",
    "print(metrics.confusion_matrix(Y, y_pred))"
   ]
  },
  {
   "cell_type": "markdown",
   "metadata": {},
   "source": [
    "#### 6.2 Splitting Training-Test Data"
   ]
  },
  {
   "cell_type": "markdown",
   "metadata": {},
   "source": [
    "###### 6.2.1 Random Splitting"
   ]
  },
  {
   "cell_type": "code",
   "execution_count": 14,
   "metadata": {},
   "outputs": [
    {
     "output_type": "stream",
     "name": "stdout",
     "text": [
      "x_train shape:  (120, 4)\ny_train shape:  (120,)\nx_test shape:  (30, 4)\ny_test shape:  (30,)\n"
     ]
    }
   ],
   "source": [
    "# Import module from sklean to split data onto training and test sets\n",
    "from sklearn.model_selection import train_test_split\n",
    "\n",
    "# Split training set and test set with ration 80% : 20% by specify test_size = 0.2\n",
    "x_train, x_test, y_train, y_test = train_test_split(X, Y, test_size = 0.2)#, random_state = 0)\n",
    "\n",
    "# Print the shape of trainning and test sets\n",
    "print(\"x_train shape: \", x_train.shape)\n",
    "print(\"y_train shape: \", y_train.shape)\n",
    "print(\"x_test shape: \", x_test.shape)\n",
    "print(\"y_test shape: \", y_test.shape)"
   ]
  },
  {
   "cell_type": "code",
   "execution_count": 15,
   "metadata": {},
   "outputs": [
    {
     "output_type": "execute_result",
     "data": {
      "text/plain": [
       "versicolor    50\n",
       "setosa        50\n",
       "virginica     50\n",
       "Name: species, dtype: int64"
      ]
     },
     "metadata": {},
     "execution_count": 15
    }
   ],
   "source": [
    "Y.value_counts()"
   ]
  },
  {
   "cell_type": "code",
   "execution_count": 16,
   "metadata": {},
   "outputs": [
    {
     "output_type": "execute_result",
     "data": {
      "text/plain": [
       "versicolor    44\n",
       "setosa        40\n",
       "virginica     36\n",
       "Name: species, dtype: int64"
      ]
     },
     "metadata": {},
     "execution_count": 16
    }
   ],
   "source": [
    "y_train.value_counts()"
   ]
  },
  {
   "cell_type": "code",
   "execution_count": 17,
   "metadata": {},
   "outputs": [
    {
     "output_type": "execute_result",
     "data": {
      "text/plain": [
       "virginica     14\n",
       "setosa        10\n",
       "versicolor     6\n",
       "Name: species, dtype: int64"
      ]
     },
     "metadata": {},
     "execution_count": 17
    }
   ],
   "source": [
    "y_test.value_counts()"
   ]
  },
  {
   "cell_type": "code",
   "execution_count": 18,
   "metadata": {},
   "outputs": [
    {
     "output_type": "stream",
     "name": "stdout",
     "text": [
      "Tesing Accuracy:  0.9\nTesing Classification Error:  0.09999999999999998\nConfusion matrix:\n[[10  0  0]\n [ 0  5  1]\n [ 0  2 12]]\n"
     ]
    }
   ],
   "source": [
    "from sklearn.neighbors import KNeighborsClassifier\n",
    "from sklearn import metrics\n",
    "\n",
    "# Initialize the knn model with k = 1\n",
    "knn = KNeighborsClassifier(n_neighbors=1, metric = 'euclidean')\n",
    "\n",
    "# Fit the model to the training set\n",
    "knn.fit(x_train, y_train)\n",
    "\n",
    "# Predict classes of the test set\n",
    "y_pred = knn.predict(x_test)\n",
    "\n",
    "# Evaluate model performace\n",
    "ac = metrics.accuracy_score(y_test, y_pred)\n",
    "print('Tesing Accuracy: ', ac)\n",
    "print('Tesing Classification Error: ', 1-ac)\n",
    "print('Confusion matrix:')\n",
    "print(metrics.confusion_matrix(y_test, y_pred))"
   ]
  },
  {
   "cell_type": "markdown",
   "metadata": {},
   "source": [
    "###### 6.2.1 Stratified Splitting"
   ]
  },
  {
   "cell_type": "code",
   "execution_count": 19,
   "metadata": {},
   "outputs": [
    {
     "output_type": "stream",
     "name": "stdout",
     "text": [
      "x_train shape:  (120, 4)\ny_train shape:  (120,)\nx_test shape:  (30, 4)\ny_test shape:  (30,)\n"
     ]
    }
   ],
   "source": [
    "# Split training set and test set with ration 80% : 20% by specify test_size = 0.2\n",
    "x_train, x_test, y_train, y_test = train_test_split(X,Y, test_size = 0.2, stratify = Y)#, random_state = 0)\n",
    "\n",
    "# print the shape of trainning and test sets\n",
    "print(\"x_train shape: \", x_train.shape)\n",
    "print(\"y_train shape: \", y_train.shape)\n",
    "print(\"x_test shape: \", x_test.shape)\n",
    "print(\"y_test shape: \", y_test.shape)"
   ]
  },
  {
   "cell_type": "code",
   "execution_count": 20,
   "metadata": {},
   "outputs": [
    {
     "output_type": "execute_result",
     "data": {
      "text/plain": [
       "versicolor    40\n",
       "setosa        40\n",
       "virginica     40\n",
       "Name: species, dtype: int64"
      ]
     },
     "metadata": {},
     "execution_count": 20
    }
   ],
   "source": [
    "y_train.value_counts()"
   ]
  },
  {
   "cell_type": "code",
   "execution_count": 21,
   "metadata": {},
   "outputs": [
    {
     "output_type": "execute_result",
     "data": {
      "text/plain": [
       "setosa        10\n",
       "virginica     10\n",
       "versicolor    10\n",
       "Name: species, dtype: int64"
      ]
     },
     "metadata": {},
     "execution_count": 21
    }
   ],
   "source": [
    "y_test.value_counts()"
   ]
  },
  {
   "cell_type": "code",
   "execution_count": 22,
   "metadata": {},
   "outputs": [
    {
     "output_type": "stream",
     "name": "stdout",
     "text": [
      "Tesing Accuracy:  0.9333333333333333\nTesing Classification Error:  0.06666666666666665\nConfusion matrix:\n[[10  0  0]\n [ 0  9  1]\n [ 0  1  9]]\n"
     ]
    }
   ],
   "source": [
    "from sklearn.neighbors import KNeighborsClassifier\n",
    "from sklearn import metrics\n",
    "\n",
    "# Initialize the knn model with k = 1\n",
    "knn = KNeighborsClassifier(n_neighbors=1, metric = 'euclidean')\n",
    "\n",
    "# Fit the model to the training set\n",
    "knn.fit(x_train, y_train)\n",
    "\n",
    "# Predict classes of the test set\n",
    "y_pred = knn.predict(x_test)\n",
    "\n",
    "# Evaluate model performace\n",
    "ac = metrics.accuracy_score(y_test, y_pred)\n",
    "print('Tesing Accuracy: ', ac)\n",
    "print('Tesing Classification Error: ', 1-ac)\n",
    "print('Confusion matrix:')\n",
    "print(metrics.confusion_matrix(y_test, y_pred))"
   ]
  },
  {
   "cell_type": "markdown",
   "metadata": {},
   "source": [
    "#### 6.3 Stratified k-fold Cross Validation\n",
    "Using cross_validation module to implement stratified k-fold cross-validation."
   ]
  },
  {
   "cell_type": "code",
   "execution_count": 23,
   "metadata": {},
   "outputs": [
    {
     "output_type": "execute_result",
     "data": {
      "text/plain": [
       "{'fit_time': array([0.00099277, 0.00099516, 0.00099754, 0.00099754, 0.0009973 ]),\n",
       " 'score_time': array([0.00199509, 0.00199342, 0.0009973 , 0.00299859, 0.00199628]),\n",
       " 'test_score': array([0.93333333, 0.96666667, 0.93333333, 0.9       , 1.        ]),\n",
       " 'train_score': array([1., 1., 1., 1., 1.])}"
      ]
     },
     "metadata": {},
     "execution_count": 23
    }
   ],
   "source": [
    "#Step 1: Import the sklearn classes\n",
    "from sklearn.neighbors import KNeighborsClassifier\n",
    "from sklearn.model_selection import cross_validate\n",
    "\n",
    "#Step 2: Create the model object with paramenters\n",
    "#Create an instance of KNeighborsClassifier with k=1 \n",
    "knn = KNeighborsClassifier(n_neighbors=1, metric = 'euclidean') \n",
    "\n",
    "#Step 3: Fit and test the model with cross validation (5-fold)\n",
    "cv_results = cross_validate(knn, X,Y, cv=5, return_train_score=True)\n",
    "cv_results"
   ]
  },
  {
   "cell_type": "code",
   "execution_count": 24,
   "metadata": {},
   "outputs": [
    {
     "output_type": "stream",
     "name": "stdout",
     "text": [
      "Tesing Accuracy for each fold: [0.93333333 0.96666667 0.93333333 0.9        1.        ]\nCross Validation Accuracy: 0.947 +/- 0.034\n"
     ]
    }
   ],
   "source": [
    "# Accuracy score for each fold \n",
    "print('Tesing Accuracy for each fold:', cv_results['test_score'])\n",
    "\n",
    "# Overall accuracy score for cross validaiton \n",
    "print('Cross Validation Accuracy: %.3f +/- %.3f' % (cv_results['test_score'].mean(), cv_results['test_score'].std()))"
   ]
  },
  {
   "cell_type": "markdown",
   "metadata": {},
   "source": [
    "### 7. KNN: Choosing an optimal k value\n",
    "Using 10-fold cross validation can help to pick a good k value for KNN Create a for loop that trains various KNN models on the whole dataset with different k values, then keep track of the accuracy for each of these models with a list."
   ]
  },
  {
   "cell_type": "code",
   "execution_count": 25,
   "metadata": {},
   "outputs": [
    {
     "output_type": "stream",
     "name": "stdout",
     "text": [
      "1 0.9533333333333334\n",
      "2 0.9533333333333334\n",
      "3 0.9533333333333334\n",
      "4 0.9466666666666667\n",
      "5 0.9533333333333334\n",
      "6 0.9666666666666666\n",
      "7 0.9533333333333334\n",
      "8 0.9666666666666668\n",
      "9 0.9533333333333334\n",
      "10 0.96\n",
      "11 0.9466666666666667\n",
      "12 0.9466666666666667\n",
      "13 0.9533333333333334\n",
      "14 0.96\n",
      "15 0.96\n",
      "16 0.9666666666666666\n",
      "17 0.9466666666666667\n",
      "18 0.9533333333333334\n",
      "19 0.9400000000000001\n",
      "20 0.9466666666666667\n",
      "21 0.9400000000000001\n",
      "22 0.9533333333333334\n",
      "23 0.9466666666666667\n",
      "24 0.9466666666666667\n",
      "25 0.9466666666666667\n",
      "26 0.9466666666666667\n",
      "27 0.9466666666666667\n",
      "28 0.9466666666666667\n",
      "29 0.9466666666666667\n",
      "30 0.9400000000000001\n",
      "31 0.9466666666666667\n",
      "32 0.9400000000000001\n",
      "33 0.9333333333333333\n",
      "34 0.9133333333333333\n",
      "35 0.9133333333333333\n",
      "36 0.9\n",
      "37 0.9066666666666666\n",
      "38 0.9\n",
      "39 0.9\n",
      "40 0.8866666666666667\n",
      "41 0.8933333333333333\n",
      "42 0.8933333333333333\n",
      "43 0.8933333333333333\n",
      "44 0.8866666666666667\n",
      "45 0.8933333333333333\n",
      "46 0.8800000000000001\n",
      "47 0.8800000000000001\n",
      "48 0.8800000000000001\n",
      "49 0.8733333333333334\n"
     ]
    }
   ],
   "source": [
    "# Experimenting with different k values\n",
    "from sklearn import metrics\n",
    "k_range = list(range(1,50))\n",
    "scores_cv = []\n",
    "\n",
    "for k in k_range:\n",
    "    knn = KNeighborsClassifier(n_neighbors=k, metric = 'euclidean')\n",
    "    cv_results = cross_validate(knn, X,Y, cv=10) # compute CV accuracy\n",
    "    scores_cv.append(cv_results['test_score'].mean())\n",
    "    print(k, cv_results['test_score'].mean())"
   ]
  },
  {
   "cell_type": "code",
   "execution_count": 26,
   "metadata": {},
   "outputs": [
    {
     "output_type": "display_data",
     "data": {
      "text/plain": "<Figure size 432x288 with 1 Axes>",
      "image/svg+xml": "<?xml version=\"1.0\" encoding=\"utf-8\" standalone=\"no\"?>\r\n<!DOCTYPE svg PUBLIC \"-//W3C//DTD SVG 1.1//EN\"\r\n  \"http://www.w3.org/Graphics/SVG/1.1/DTD/svg11.dtd\">\r\n<!-- Created with matplotlib (https://matplotlib.org/) -->\r\n<svg height=\"277.314375pt\" version=\"1.1\" viewBox=\"0 0 392.14375 277.314375\" width=\"392.14375pt\" xmlns=\"http://www.w3.org/2000/svg\" xmlns:xlink=\"http://www.w3.org/1999/xlink\">\r\n <metadata>\r\n  <rdf:RDF xmlns:cc=\"http://creativecommons.org/ns#\" xmlns:dc=\"http://purl.org/dc/elements/1.1/\" xmlns:rdf=\"http://www.w3.org/1999/02/22-rdf-syntax-ns#\">\r\n   <cc:Work>\r\n    <dc:type rdf:resource=\"http://purl.org/dc/dcmitype/StillImage\"/>\r\n    <dc:date>2020-10-08T17:45:05.842558</dc:date>\r\n    <dc:format>image/svg+xml</dc:format>\r\n    <dc:creator>\r\n     <cc:Agent>\r\n      <dc:title>Matplotlib v3.3.1, https://matplotlib.org/</dc:title>\r\n     </cc:Agent>\r\n    </dc:creator>\r\n   </cc:Work>\r\n  </rdf:RDF>\r\n </metadata>\r\n <defs>\r\n  <style type=\"text/css\">*{stroke-linecap:butt;stroke-linejoin:round;}</style>\r\n </defs>\r\n <g id=\"figure_1\">\r\n  <g id=\"patch_1\">\r\n   <path d=\"M 0 277.314375 \r\nL 392.14375 277.314375 \r\nL 392.14375 0 \r\nL 0 0 \r\nz\r\n\" style=\"fill:none;\"/>\r\n  </g>\r\n  <g id=\"axes_1\">\r\n   <g id=\"patch_2\">\r\n    <path d=\"M 50.14375 239.758125 \r\nL 384.94375 239.758125 \r\nL 384.94375 22.318125 \r\nL 50.14375 22.318125 \r\nz\r\n\" style=\"fill:#ffffff;\"/>\r\n   </g>\r\n   <g id=\"matplotlib.axis_1\">\r\n    <g id=\"xtick_1\">\r\n     <g id=\"line2d_1\">\r\n      <defs>\r\n       <path d=\"M 0 0 \r\nL 0 3.5 \r\n\" id=\"m685b21850f\" style=\"stroke:#000000;stroke-width:0.8;\"/>\r\n      </defs>\r\n      <g>\r\n       <use style=\"stroke:#000000;stroke-width:0.8;\" x=\"59.021023\" xlink:href=\"#m685b21850f\" y=\"239.758125\"/>\r\n      </g>\r\n     </g>\r\n     <g id=\"text_1\">\r\n      <!-- 0 -->\r\n      <g transform=\"translate(55.839773 254.356562)scale(0.1 -0.1)\">\r\n       <defs>\r\n        <path d=\"M 31.78125 66.40625 \r\nQ 24.171875 66.40625 20.328125 58.90625 \r\nQ 16.5 51.421875 16.5 36.375 \r\nQ 16.5 21.390625 20.328125 13.890625 \r\nQ 24.171875 6.390625 31.78125 6.390625 \r\nQ 39.453125 6.390625 43.28125 13.890625 \r\nQ 47.125 21.390625 47.125 36.375 \r\nQ 47.125 51.421875 43.28125 58.90625 \r\nQ 39.453125 66.40625 31.78125 66.40625 \r\nz\r\nM 31.78125 74.21875 \r\nQ 44.046875 74.21875 50.515625 64.515625 \r\nQ 56.984375 54.828125 56.984375 36.375 \r\nQ 56.984375 17.96875 50.515625 8.265625 \r\nQ 44.046875 -1.421875 31.78125 -1.421875 \r\nQ 19.53125 -1.421875 13.0625 8.265625 \r\nQ 6.59375 17.96875 6.59375 36.375 \r\nQ 6.59375 54.828125 13.0625 64.515625 \r\nQ 19.53125 74.21875 31.78125 74.21875 \r\nz\r\n\" id=\"DejaVuSans-48\"/>\r\n       </defs>\r\n       <use xlink:href=\"#DejaVuSans-48\"/>\r\n      </g>\r\n     </g>\r\n    </g>\r\n    <g id=\"xtick_2\">\r\n     <g id=\"line2d_2\">\r\n      <g>\r\n       <use style=\"stroke:#000000;stroke-width:0.8;\" x=\"122.430114\" xlink:href=\"#m685b21850f\" y=\"239.758125\"/>\r\n      </g>\r\n     </g>\r\n     <g id=\"text_2\">\r\n      <!-- 10 -->\r\n      <g transform=\"translate(116.067614 254.356562)scale(0.1 -0.1)\">\r\n       <defs>\r\n        <path d=\"M 12.40625 8.296875 \r\nL 28.515625 8.296875 \r\nL 28.515625 63.921875 \r\nL 10.984375 60.40625 \r\nL 10.984375 69.390625 \r\nL 28.421875 72.90625 \r\nL 38.28125 72.90625 \r\nL 38.28125 8.296875 \r\nL 54.390625 8.296875 \r\nL 54.390625 0 \r\nL 12.40625 0 \r\nz\r\n\" id=\"DejaVuSans-49\"/>\r\n       </defs>\r\n       <use xlink:href=\"#DejaVuSans-49\"/>\r\n       <use x=\"63.623047\" xlink:href=\"#DejaVuSans-48\"/>\r\n      </g>\r\n     </g>\r\n    </g>\r\n    <g id=\"xtick_3\">\r\n     <g id=\"line2d_3\">\r\n      <g>\r\n       <use style=\"stroke:#000000;stroke-width:0.8;\" x=\"185.839205\" xlink:href=\"#m685b21850f\" y=\"239.758125\"/>\r\n      </g>\r\n     </g>\r\n     <g id=\"text_3\">\r\n      <!-- 20 -->\r\n      <g transform=\"translate(179.476705 254.356562)scale(0.1 -0.1)\">\r\n       <defs>\r\n        <path d=\"M 19.1875 8.296875 \r\nL 53.609375 8.296875 \r\nL 53.609375 0 \r\nL 7.328125 0 \r\nL 7.328125 8.296875 \r\nQ 12.9375 14.109375 22.625 23.890625 \r\nQ 32.328125 33.6875 34.8125 36.53125 \r\nQ 39.546875 41.84375 41.421875 45.53125 \r\nQ 43.3125 49.21875 43.3125 52.78125 \r\nQ 43.3125 58.59375 39.234375 62.25 \r\nQ 35.15625 65.921875 28.609375 65.921875 \r\nQ 23.96875 65.921875 18.8125 64.3125 \r\nQ 13.671875 62.703125 7.8125 59.421875 \r\nL 7.8125 69.390625 \r\nQ 13.765625 71.78125 18.9375 73 \r\nQ 24.125 74.21875 28.421875 74.21875 \r\nQ 39.75 74.21875 46.484375 68.546875 \r\nQ 53.21875 62.890625 53.21875 53.421875 \r\nQ 53.21875 48.921875 51.53125 44.890625 \r\nQ 49.859375 40.875 45.40625 35.40625 \r\nQ 44.1875 33.984375 37.640625 27.21875 \r\nQ 31.109375 20.453125 19.1875 8.296875 \r\nz\r\n\" id=\"DejaVuSans-50\"/>\r\n       </defs>\r\n       <use xlink:href=\"#DejaVuSans-50\"/>\r\n       <use x=\"63.623047\" xlink:href=\"#DejaVuSans-48\"/>\r\n      </g>\r\n     </g>\r\n    </g>\r\n    <g id=\"xtick_4\">\r\n     <g id=\"line2d_4\">\r\n      <g>\r\n       <use style=\"stroke:#000000;stroke-width:0.8;\" x=\"249.248295\" xlink:href=\"#m685b21850f\" y=\"239.758125\"/>\r\n      </g>\r\n     </g>\r\n     <g id=\"text_4\">\r\n      <!-- 30 -->\r\n      <g transform=\"translate(242.885795 254.356562)scale(0.1 -0.1)\">\r\n       <defs>\r\n        <path d=\"M 40.578125 39.3125 \r\nQ 47.65625 37.796875 51.625 33 \r\nQ 55.609375 28.21875 55.609375 21.1875 \r\nQ 55.609375 10.40625 48.1875 4.484375 \r\nQ 40.765625 -1.421875 27.09375 -1.421875 \r\nQ 22.515625 -1.421875 17.65625 -0.515625 \r\nQ 12.796875 0.390625 7.625 2.203125 \r\nL 7.625 11.71875 \r\nQ 11.71875 9.328125 16.59375 8.109375 \r\nQ 21.484375 6.890625 26.8125 6.890625 \r\nQ 36.078125 6.890625 40.9375 10.546875 \r\nQ 45.796875 14.203125 45.796875 21.1875 \r\nQ 45.796875 27.640625 41.28125 31.265625 \r\nQ 36.765625 34.90625 28.71875 34.90625 \r\nL 20.21875 34.90625 \r\nL 20.21875 43.015625 \r\nL 29.109375 43.015625 \r\nQ 36.375 43.015625 40.234375 45.921875 \r\nQ 44.09375 48.828125 44.09375 54.296875 \r\nQ 44.09375 59.90625 40.109375 62.90625 \r\nQ 36.140625 65.921875 28.71875 65.921875 \r\nQ 24.65625 65.921875 20.015625 65.03125 \r\nQ 15.375 64.15625 9.8125 62.3125 \r\nL 9.8125 71.09375 \r\nQ 15.4375 72.65625 20.34375 73.4375 \r\nQ 25.25 74.21875 29.59375 74.21875 \r\nQ 40.828125 74.21875 47.359375 69.109375 \r\nQ 53.90625 64.015625 53.90625 55.328125 \r\nQ 53.90625 49.265625 50.4375 45.09375 \r\nQ 46.96875 40.921875 40.578125 39.3125 \r\nz\r\n\" id=\"DejaVuSans-51\"/>\r\n       </defs>\r\n       <use xlink:href=\"#DejaVuSans-51\"/>\r\n       <use x=\"63.623047\" xlink:href=\"#DejaVuSans-48\"/>\r\n      </g>\r\n     </g>\r\n    </g>\r\n    <g id=\"xtick_5\">\r\n     <g id=\"line2d_5\">\r\n      <g>\r\n       <use style=\"stroke:#000000;stroke-width:0.8;\" x=\"312.657386\" xlink:href=\"#m685b21850f\" y=\"239.758125\"/>\r\n      </g>\r\n     </g>\r\n     <g id=\"text_5\">\r\n      <!-- 40 -->\r\n      <g transform=\"translate(306.294886 254.356562)scale(0.1 -0.1)\">\r\n       <defs>\r\n        <path d=\"M 37.796875 64.3125 \r\nL 12.890625 25.390625 \r\nL 37.796875 25.390625 \r\nz\r\nM 35.203125 72.90625 \r\nL 47.609375 72.90625 \r\nL 47.609375 25.390625 \r\nL 58.015625 25.390625 \r\nL 58.015625 17.1875 \r\nL 47.609375 17.1875 \r\nL 47.609375 0 \r\nL 37.796875 0 \r\nL 37.796875 17.1875 \r\nL 4.890625 17.1875 \r\nL 4.890625 26.703125 \r\nz\r\n\" id=\"DejaVuSans-52\"/>\r\n       </defs>\r\n       <use xlink:href=\"#DejaVuSans-52\"/>\r\n       <use x=\"63.623047\" xlink:href=\"#DejaVuSans-48\"/>\r\n      </g>\r\n     </g>\r\n    </g>\r\n    <g id=\"xtick_6\">\r\n     <g id=\"line2d_6\">\r\n      <g>\r\n       <use style=\"stroke:#000000;stroke-width:0.8;\" x=\"376.066477\" xlink:href=\"#m685b21850f\" y=\"239.758125\"/>\r\n      </g>\r\n     </g>\r\n     <g id=\"text_6\">\r\n      <!-- 50 -->\r\n      <g transform=\"translate(369.703977 254.356562)scale(0.1 -0.1)\">\r\n       <defs>\r\n        <path d=\"M 10.796875 72.90625 \r\nL 49.515625 72.90625 \r\nL 49.515625 64.59375 \r\nL 19.828125 64.59375 \r\nL 19.828125 46.734375 \r\nQ 21.96875 47.46875 24.109375 47.828125 \r\nQ 26.265625 48.1875 28.421875 48.1875 \r\nQ 40.625 48.1875 47.75 41.5 \r\nQ 54.890625 34.8125 54.890625 23.390625 \r\nQ 54.890625 11.625 47.5625 5.09375 \r\nQ 40.234375 -1.421875 26.90625 -1.421875 \r\nQ 22.3125 -1.421875 17.546875 -0.640625 \r\nQ 12.796875 0.140625 7.71875 1.703125 \r\nL 7.71875 11.625 \r\nQ 12.109375 9.234375 16.796875 8.0625 \r\nQ 21.484375 6.890625 26.703125 6.890625 \r\nQ 35.15625 6.890625 40.078125 11.328125 \r\nQ 45.015625 15.765625 45.015625 23.390625 \r\nQ 45.015625 31 40.078125 35.4375 \r\nQ 35.15625 39.890625 26.703125 39.890625 \r\nQ 22.75 39.890625 18.8125 39.015625 \r\nQ 14.890625 38.140625 10.796875 36.28125 \r\nz\r\n\" id=\"DejaVuSans-53\"/>\r\n       </defs>\r\n       <use xlink:href=\"#DejaVuSans-53\"/>\r\n       <use x=\"63.623047\" xlink:href=\"#DejaVuSans-48\"/>\r\n      </g>\r\n     </g>\r\n    </g>\r\n    <g id=\"text_7\">\r\n     <!-- k value  -->\r\n     <g transform=\"translate(197.8125 268.034687)scale(0.1 -0.1)\">\r\n      <defs>\r\n       <path d=\"M 9.078125 75.984375 \r\nL 18.109375 75.984375 \r\nL 18.109375 31.109375 \r\nL 44.921875 54.6875 \r\nL 56.390625 54.6875 \r\nL 27.390625 29.109375 \r\nL 57.625 0 \r\nL 45.90625 0 \r\nL 18.109375 26.703125 \r\nL 18.109375 0 \r\nL 9.078125 0 \r\nz\r\n\" id=\"DejaVuSans-107\"/>\r\n       <path id=\"DejaVuSans-32\"/>\r\n       <path d=\"M 2.984375 54.6875 \r\nL 12.5 54.6875 \r\nL 29.59375 8.796875 \r\nL 46.6875 54.6875 \r\nL 56.203125 54.6875 \r\nL 35.6875 0 \r\nL 23.484375 0 \r\nz\r\n\" id=\"DejaVuSans-118\"/>\r\n       <path d=\"M 34.28125 27.484375 \r\nQ 23.390625 27.484375 19.1875 25 \r\nQ 14.984375 22.515625 14.984375 16.5 \r\nQ 14.984375 11.71875 18.140625 8.90625 \r\nQ 21.296875 6.109375 26.703125 6.109375 \r\nQ 34.1875 6.109375 38.703125 11.40625 \r\nQ 43.21875 16.703125 43.21875 25.484375 \r\nL 43.21875 27.484375 \r\nz\r\nM 52.203125 31.203125 \r\nL 52.203125 0 \r\nL 43.21875 0 \r\nL 43.21875 8.296875 \r\nQ 40.140625 3.328125 35.546875 0.953125 \r\nQ 30.953125 -1.421875 24.3125 -1.421875 \r\nQ 15.921875 -1.421875 10.953125 3.296875 \r\nQ 6 8.015625 6 15.921875 \r\nQ 6 25.140625 12.171875 29.828125 \r\nQ 18.359375 34.515625 30.609375 34.515625 \r\nL 43.21875 34.515625 \r\nL 43.21875 35.40625 \r\nQ 43.21875 41.609375 39.140625 45 \r\nQ 35.0625 48.390625 27.6875 48.390625 \r\nQ 23 48.390625 18.546875 47.265625 \r\nQ 14.109375 46.140625 10.015625 43.890625 \r\nL 10.015625 52.203125 \r\nQ 14.9375 54.109375 19.578125 55.046875 \r\nQ 24.21875 56 28.609375 56 \r\nQ 40.484375 56 46.34375 49.84375 \r\nQ 52.203125 43.703125 52.203125 31.203125 \r\nz\r\n\" id=\"DejaVuSans-97\"/>\r\n       <path d=\"M 9.421875 75.984375 \r\nL 18.40625 75.984375 \r\nL 18.40625 0 \r\nL 9.421875 0 \r\nz\r\n\" id=\"DejaVuSans-108\"/>\r\n       <path d=\"M 8.5 21.578125 \r\nL 8.5 54.6875 \r\nL 17.484375 54.6875 \r\nL 17.484375 21.921875 \r\nQ 17.484375 14.15625 20.5 10.265625 \r\nQ 23.53125 6.390625 29.59375 6.390625 \r\nQ 36.859375 6.390625 41.078125 11.03125 \r\nQ 45.3125 15.671875 45.3125 23.6875 \r\nL 45.3125 54.6875 \r\nL 54.296875 54.6875 \r\nL 54.296875 0 \r\nL 45.3125 0 \r\nL 45.3125 8.40625 \r\nQ 42.046875 3.421875 37.71875 1 \r\nQ 33.40625 -1.421875 27.6875 -1.421875 \r\nQ 18.265625 -1.421875 13.375 4.4375 \r\nQ 8.5 10.296875 8.5 21.578125 \r\nz\r\nM 31.109375 56 \r\nz\r\n\" id=\"DejaVuSans-117\"/>\r\n       <path d=\"M 56.203125 29.59375 \r\nL 56.203125 25.203125 \r\nL 14.890625 25.203125 \r\nQ 15.484375 15.921875 20.484375 11.0625 \r\nQ 25.484375 6.203125 34.421875 6.203125 \r\nQ 39.59375 6.203125 44.453125 7.46875 \r\nQ 49.3125 8.734375 54.109375 11.28125 \r\nL 54.109375 2.78125 \r\nQ 49.265625 0.734375 44.1875 -0.34375 \r\nQ 39.109375 -1.421875 33.890625 -1.421875 \r\nQ 20.796875 -1.421875 13.15625 6.1875 \r\nQ 5.515625 13.8125 5.515625 26.8125 \r\nQ 5.515625 40.234375 12.765625 48.109375 \r\nQ 20.015625 56 32.328125 56 \r\nQ 43.359375 56 49.78125 48.890625 \r\nQ 56.203125 41.796875 56.203125 29.59375 \r\nz\r\nM 47.21875 32.234375 \r\nQ 47.125 39.59375 43.09375 43.984375 \r\nQ 39.0625 48.390625 32.421875 48.390625 \r\nQ 24.90625 48.390625 20.390625 44.140625 \r\nQ 15.875 39.890625 15.1875 32.171875 \r\nz\r\n\" id=\"DejaVuSans-101\"/>\r\n      </defs>\r\n      <use xlink:href=\"#DejaVuSans-107\"/>\r\n      <use x=\"57.910156\" xlink:href=\"#DejaVuSans-32\"/>\r\n      <use x=\"89.697266\" xlink:href=\"#DejaVuSans-118\"/>\r\n      <use x=\"148.876953\" xlink:href=\"#DejaVuSans-97\"/>\r\n      <use x=\"210.15625\" xlink:href=\"#DejaVuSans-108\"/>\r\n      <use x=\"237.939453\" xlink:href=\"#DejaVuSans-117\"/>\r\n      <use x=\"301.318359\" xlink:href=\"#DejaVuSans-101\"/>\r\n      <use x=\"362.841797\" xlink:href=\"#DejaVuSans-32\"/>\r\n     </g>\r\n    </g>\r\n   </g>\r\n   <g id=\"matplotlib.axis_2\">\r\n    <g id=\"ytick_1\">\r\n     <g id=\"line2d_7\">\r\n      <defs>\r\n       <path d=\"M 0 0 \r\nL -3.5 0 \r\n\" id=\"m0ac15bd222\" style=\"stroke:#000000;stroke-width:0.8;\"/>\r\n      </defs>\r\n      <g>\r\n       <use style=\"stroke:#000000;stroke-width:0.8;\" x=\"50.14375\" xlink:href=\"#m0ac15bd222\" y=\"215.755008\"/>\r\n      </g>\r\n     </g>\r\n     <g id=\"text_8\">\r\n      <!-- 0.88 -->\r\n      <g transform=\"translate(20.878125 219.554227)scale(0.1 -0.1)\">\r\n       <defs>\r\n        <path d=\"M 10.6875 12.40625 \r\nL 21 12.40625 \r\nL 21 0 \r\nL 10.6875 0 \r\nz\r\n\" id=\"DejaVuSans-46\"/>\r\n        <path d=\"M 31.78125 34.625 \r\nQ 24.75 34.625 20.71875 30.859375 \r\nQ 16.703125 27.09375 16.703125 20.515625 \r\nQ 16.703125 13.921875 20.71875 10.15625 \r\nQ 24.75 6.390625 31.78125 6.390625 \r\nQ 38.8125 6.390625 42.859375 10.171875 \r\nQ 46.921875 13.96875 46.921875 20.515625 \r\nQ 46.921875 27.09375 42.890625 30.859375 \r\nQ 38.875 34.625 31.78125 34.625 \r\nz\r\nM 21.921875 38.8125 \r\nQ 15.578125 40.375 12.03125 44.71875 \r\nQ 8.5 49.078125 8.5 55.328125 \r\nQ 8.5 64.0625 14.71875 69.140625 \r\nQ 20.953125 74.21875 31.78125 74.21875 \r\nQ 42.671875 74.21875 48.875 69.140625 \r\nQ 55.078125 64.0625 55.078125 55.328125 \r\nQ 55.078125 49.078125 51.53125 44.71875 \r\nQ 48 40.375 41.703125 38.8125 \r\nQ 48.828125 37.15625 52.796875 32.3125 \r\nQ 56.78125 27.484375 56.78125 20.515625 \r\nQ 56.78125 9.90625 50.3125 4.234375 \r\nQ 43.84375 -1.421875 31.78125 -1.421875 \r\nQ 19.734375 -1.421875 13.25 4.234375 \r\nQ 6.78125 9.90625 6.78125 20.515625 \r\nQ 6.78125 27.484375 10.78125 32.3125 \r\nQ 14.796875 37.15625 21.921875 38.8125 \r\nz\r\nM 18.3125 54.390625 \r\nQ 18.3125 48.734375 21.84375 45.5625 \r\nQ 25.390625 42.390625 31.78125 42.390625 \r\nQ 38.140625 42.390625 41.71875 45.5625 \r\nQ 45.3125 48.734375 45.3125 54.390625 \r\nQ 45.3125 60.0625 41.71875 63.234375 \r\nQ 38.140625 66.40625 31.78125 66.40625 \r\nQ 25.390625 66.40625 21.84375 63.234375 \r\nQ 18.3125 60.0625 18.3125 54.390625 \r\nz\r\n\" id=\"DejaVuSans-56\"/>\r\n       </defs>\r\n       <use xlink:href=\"#DejaVuSans-48\"/>\r\n       <use x=\"63.623047\" xlink:href=\"#DejaVuSans-46\"/>\r\n       <use x=\"95.410156\" xlink:href=\"#DejaVuSans-56\"/>\r\n       <use x=\"159.033203\" xlink:href=\"#DejaVuSans-56\"/>\r\n      </g>\r\n     </g>\r\n    </g>\r\n    <g id=\"ytick_2\">\r\n     <g id=\"line2d_8\">\r\n      <g>\r\n       <use style=\"stroke:#000000;stroke-width:0.8;\" x=\"50.14375\" xlink:href=\"#m0ac15bd222\" y=\"173.396567\"/>\r\n      </g>\r\n     </g>\r\n     <g id=\"text_9\">\r\n      <!-- 0.90 -->\r\n      <g transform=\"translate(20.878125 177.195785)scale(0.1 -0.1)\">\r\n       <defs>\r\n        <path d=\"M 10.984375 1.515625 \r\nL 10.984375 10.5 \r\nQ 14.703125 8.734375 18.5 7.8125 \r\nQ 22.3125 6.890625 25.984375 6.890625 \r\nQ 35.75 6.890625 40.890625 13.453125 \r\nQ 46.046875 20.015625 46.78125 33.40625 \r\nQ 43.953125 29.203125 39.59375 26.953125 \r\nQ 35.25 24.703125 29.984375 24.703125 \r\nQ 19.046875 24.703125 12.671875 31.3125 \r\nQ 6.296875 37.9375 6.296875 49.421875 \r\nQ 6.296875 60.640625 12.9375 67.421875 \r\nQ 19.578125 74.21875 30.609375 74.21875 \r\nQ 43.265625 74.21875 49.921875 64.515625 \r\nQ 56.59375 54.828125 56.59375 36.375 \r\nQ 56.59375 19.140625 48.40625 8.859375 \r\nQ 40.234375 -1.421875 26.421875 -1.421875 \r\nQ 22.703125 -1.421875 18.890625 -0.6875 \r\nQ 15.09375 0.046875 10.984375 1.515625 \r\nz\r\nM 30.609375 32.421875 \r\nQ 37.25 32.421875 41.125 36.953125 \r\nQ 45.015625 41.5 45.015625 49.421875 \r\nQ 45.015625 57.28125 41.125 61.84375 \r\nQ 37.25 66.40625 30.609375 66.40625 \r\nQ 23.96875 66.40625 20.09375 61.84375 \r\nQ 16.21875 57.28125 16.21875 49.421875 \r\nQ 16.21875 41.5 20.09375 36.953125 \r\nQ 23.96875 32.421875 30.609375 32.421875 \r\nz\r\n\" id=\"DejaVuSans-57\"/>\r\n       </defs>\r\n       <use xlink:href=\"#DejaVuSans-48\"/>\r\n       <use x=\"63.623047\" xlink:href=\"#DejaVuSans-46\"/>\r\n       <use x=\"95.410156\" xlink:href=\"#DejaVuSans-57\"/>\r\n       <use x=\"159.033203\" xlink:href=\"#DejaVuSans-48\"/>\r\n      </g>\r\n     </g>\r\n    </g>\r\n    <g id=\"ytick_3\">\r\n     <g id=\"line2d_9\">\r\n      <g>\r\n       <use style=\"stroke:#000000;stroke-width:0.8;\" x=\"50.14375\" xlink:href=\"#m0ac15bd222\" y=\"131.038125\"/>\r\n      </g>\r\n     </g>\r\n     <g id=\"text_10\">\r\n      <!-- 0.92 -->\r\n      <g transform=\"translate(20.878125 134.837344)scale(0.1 -0.1)\">\r\n       <use xlink:href=\"#DejaVuSans-48\"/>\r\n       <use x=\"63.623047\" xlink:href=\"#DejaVuSans-46\"/>\r\n       <use x=\"95.410156\" xlink:href=\"#DejaVuSans-57\"/>\r\n       <use x=\"159.033203\" xlink:href=\"#DejaVuSans-50\"/>\r\n      </g>\r\n     </g>\r\n    </g>\r\n    <g id=\"ytick_4\">\r\n     <g id=\"line2d_10\">\r\n      <g>\r\n       <use style=\"stroke:#000000;stroke-width:0.8;\" x=\"50.14375\" xlink:href=\"#m0ac15bd222\" y=\"88.679683\"/>\r\n      </g>\r\n     </g>\r\n     <g id=\"text_11\">\r\n      <!-- 0.94 -->\r\n      <g transform=\"translate(20.878125 92.478902)scale(0.1 -0.1)\">\r\n       <use xlink:href=\"#DejaVuSans-48\"/>\r\n       <use x=\"63.623047\" xlink:href=\"#DejaVuSans-46\"/>\r\n       <use x=\"95.410156\" xlink:href=\"#DejaVuSans-57\"/>\r\n       <use x=\"159.033203\" xlink:href=\"#DejaVuSans-52\"/>\r\n      </g>\r\n     </g>\r\n    </g>\r\n    <g id=\"ytick_5\">\r\n     <g id=\"line2d_11\">\r\n      <g>\r\n       <use style=\"stroke:#000000;stroke-width:0.8;\" x=\"50.14375\" xlink:href=\"#m0ac15bd222\" y=\"46.321242\"/>\r\n      </g>\r\n     </g>\r\n     <g id=\"text_12\">\r\n      <!-- 0.96 -->\r\n      <g transform=\"translate(20.878125 50.120461)scale(0.1 -0.1)\">\r\n       <defs>\r\n        <path d=\"M 33.015625 40.375 \r\nQ 26.375 40.375 22.484375 35.828125 \r\nQ 18.609375 31.296875 18.609375 23.390625 \r\nQ 18.609375 15.53125 22.484375 10.953125 \r\nQ 26.375 6.390625 33.015625 6.390625 \r\nQ 39.65625 6.390625 43.53125 10.953125 \r\nQ 47.40625 15.53125 47.40625 23.390625 \r\nQ 47.40625 31.296875 43.53125 35.828125 \r\nQ 39.65625 40.375 33.015625 40.375 \r\nz\r\nM 52.59375 71.296875 \r\nL 52.59375 62.3125 \r\nQ 48.875 64.0625 45.09375 64.984375 \r\nQ 41.3125 65.921875 37.59375 65.921875 \r\nQ 27.828125 65.921875 22.671875 59.328125 \r\nQ 17.53125 52.734375 16.796875 39.40625 \r\nQ 19.671875 43.65625 24.015625 45.921875 \r\nQ 28.375 48.1875 33.59375 48.1875 \r\nQ 44.578125 48.1875 50.953125 41.515625 \r\nQ 57.328125 34.859375 57.328125 23.390625 \r\nQ 57.328125 12.15625 50.6875 5.359375 \r\nQ 44.046875 -1.421875 33.015625 -1.421875 \r\nQ 20.359375 -1.421875 13.671875 8.265625 \r\nQ 6.984375 17.96875 6.984375 36.375 \r\nQ 6.984375 53.65625 15.1875 63.9375 \r\nQ 23.390625 74.21875 37.203125 74.21875 \r\nQ 40.921875 74.21875 44.703125 73.484375 \r\nQ 48.484375 72.75 52.59375 71.296875 \r\nz\r\n\" id=\"DejaVuSans-54\"/>\r\n       </defs>\r\n       <use xlink:href=\"#DejaVuSans-48\"/>\r\n       <use x=\"63.623047\" xlink:href=\"#DejaVuSans-46\"/>\r\n       <use x=\"95.410156\" xlink:href=\"#DejaVuSans-57\"/>\r\n       <use x=\"159.033203\" xlink:href=\"#DejaVuSans-54\"/>\r\n      </g>\r\n     </g>\r\n    </g>\r\n    <g id=\"text_13\">\r\n     <!-- CV Accuracy Rate -->\r\n     <g transform=\"translate(14.798438 175.418594)rotate(-90)scale(0.1 -0.1)\">\r\n      <defs>\r\n       <path d=\"M 64.40625 67.28125 \r\nL 64.40625 56.890625 \r\nQ 59.421875 61.53125 53.78125 63.8125 \r\nQ 48.140625 66.109375 41.796875 66.109375 \r\nQ 29.296875 66.109375 22.65625 58.46875 \r\nQ 16.015625 50.828125 16.015625 36.375 \r\nQ 16.015625 21.96875 22.65625 14.328125 \r\nQ 29.296875 6.6875 41.796875 6.6875 \r\nQ 48.140625 6.6875 53.78125 8.984375 \r\nQ 59.421875 11.28125 64.40625 15.921875 \r\nL 64.40625 5.609375 \r\nQ 59.234375 2.09375 53.4375 0.328125 \r\nQ 47.65625 -1.421875 41.21875 -1.421875 \r\nQ 24.65625 -1.421875 15.125 8.703125 \r\nQ 5.609375 18.84375 5.609375 36.375 \r\nQ 5.609375 53.953125 15.125 64.078125 \r\nQ 24.65625 74.21875 41.21875 74.21875 \r\nQ 47.75 74.21875 53.53125 72.484375 \r\nQ 59.328125 70.75 64.40625 67.28125 \r\nz\r\n\" id=\"DejaVuSans-67\"/>\r\n       <path d=\"M 28.609375 0 \r\nL 0.78125 72.90625 \r\nL 11.078125 72.90625 \r\nL 34.1875 11.53125 \r\nL 57.328125 72.90625 \r\nL 67.578125 72.90625 \r\nL 39.796875 0 \r\nz\r\n\" id=\"DejaVuSans-86\"/>\r\n       <path d=\"M 34.1875 63.1875 \r\nL 20.796875 26.90625 \r\nL 47.609375 26.90625 \r\nz\r\nM 28.609375 72.90625 \r\nL 39.796875 72.90625 \r\nL 67.578125 0 \r\nL 57.328125 0 \r\nL 50.6875 18.703125 \r\nL 17.828125 18.703125 \r\nL 11.1875 0 \r\nL 0.78125 0 \r\nz\r\n\" id=\"DejaVuSans-65\"/>\r\n       <path d=\"M 48.78125 52.59375 \r\nL 48.78125 44.1875 \r\nQ 44.96875 46.296875 41.140625 47.34375 \r\nQ 37.3125 48.390625 33.40625 48.390625 \r\nQ 24.65625 48.390625 19.8125 42.84375 \r\nQ 14.984375 37.3125 14.984375 27.296875 \r\nQ 14.984375 17.28125 19.8125 11.734375 \r\nQ 24.65625 6.203125 33.40625 6.203125 \r\nQ 37.3125 6.203125 41.140625 7.25 \r\nQ 44.96875 8.296875 48.78125 10.40625 \r\nL 48.78125 2.09375 \r\nQ 45.015625 0.34375 40.984375 -0.53125 \r\nQ 36.96875 -1.421875 32.421875 -1.421875 \r\nQ 20.0625 -1.421875 12.78125 6.34375 \r\nQ 5.515625 14.109375 5.515625 27.296875 \r\nQ 5.515625 40.671875 12.859375 48.328125 \r\nQ 20.21875 56 33.015625 56 \r\nQ 37.15625 56 41.109375 55.140625 \r\nQ 45.0625 54.296875 48.78125 52.59375 \r\nz\r\n\" id=\"DejaVuSans-99\"/>\r\n       <path d=\"M 41.109375 46.296875 \r\nQ 39.59375 47.171875 37.8125 47.578125 \r\nQ 36.03125 48 33.890625 48 \r\nQ 26.265625 48 22.1875 43.046875 \r\nQ 18.109375 38.09375 18.109375 28.8125 \r\nL 18.109375 0 \r\nL 9.078125 0 \r\nL 9.078125 54.6875 \r\nL 18.109375 54.6875 \r\nL 18.109375 46.1875 \r\nQ 20.953125 51.171875 25.484375 53.578125 \r\nQ 30.03125 56 36.53125 56 \r\nQ 37.453125 56 38.578125 55.875 \r\nQ 39.703125 55.765625 41.0625 55.515625 \r\nz\r\n\" id=\"DejaVuSans-114\"/>\r\n       <path d=\"M 32.171875 -5.078125 \r\nQ 28.375 -14.84375 24.75 -17.8125 \r\nQ 21.140625 -20.796875 15.09375 -20.796875 \r\nL 7.90625 -20.796875 \r\nL 7.90625 -13.28125 \r\nL 13.1875 -13.28125 \r\nQ 16.890625 -13.28125 18.9375 -11.515625 \r\nQ 21 -9.765625 23.484375 -3.21875 \r\nL 25.09375 0.875 \r\nL 2.984375 54.6875 \r\nL 12.5 54.6875 \r\nL 29.59375 11.921875 \r\nL 46.6875 54.6875 \r\nL 56.203125 54.6875 \r\nz\r\n\" id=\"DejaVuSans-121\"/>\r\n       <path d=\"M 44.390625 34.1875 \r\nQ 47.5625 33.109375 50.5625 29.59375 \r\nQ 53.5625 26.078125 56.59375 19.921875 \r\nL 66.609375 0 \r\nL 56 0 \r\nL 46.6875 18.703125 \r\nQ 43.0625 26.03125 39.671875 28.421875 \r\nQ 36.28125 30.8125 30.421875 30.8125 \r\nL 19.671875 30.8125 \r\nL 19.671875 0 \r\nL 9.8125 0 \r\nL 9.8125 72.90625 \r\nL 32.078125 72.90625 \r\nQ 44.578125 72.90625 50.734375 67.671875 \r\nQ 56.890625 62.453125 56.890625 51.90625 \r\nQ 56.890625 45.015625 53.6875 40.46875 \r\nQ 50.484375 35.9375 44.390625 34.1875 \r\nz\r\nM 19.671875 64.796875 \r\nL 19.671875 38.921875 \r\nL 32.078125 38.921875 \r\nQ 39.203125 38.921875 42.84375 42.21875 \r\nQ 46.484375 45.515625 46.484375 51.90625 \r\nQ 46.484375 58.296875 42.84375 61.546875 \r\nQ 39.203125 64.796875 32.078125 64.796875 \r\nz\r\n\" id=\"DejaVuSans-82\"/>\r\n       <path d=\"M 18.3125 70.21875 \r\nL 18.3125 54.6875 \r\nL 36.8125 54.6875 \r\nL 36.8125 47.703125 \r\nL 18.3125 47.703125 \r\nL 18.3125 18.015625 \r\nQ 18.3125 11.328125 20.140625 9.421875 \r\nQ 21.96875 7.515625 27.59375 7.515625 \r\nL 36.8125 7.515625 \r\nL 36.8125 0 \r\nL 27.59375 0 \r\nQ 17.1875 0 13.234375 3.875 \r\nQ 9.28125 7.765625 9.28125 18.015625 \r\nL 9.28125 47.703125 \r\nL 2.6875 47.703125 \r\nL 2.6875 54.6875 \r\nL 9.28125 54.6875 \r\nL 9.28125 70.21875 \r\nz\r\n\" id=\"DejaVuSans-116\"/>\r\n      </defs>\r\n      <use xlink:href=\"#DejaVuSans-67\"/>\r\n      <use x=\"69.824219\" xlink:href=\"#DejaVuSans-86\"/>\r\n      <use x=\"138.232422\" xlink:href=\"#DejaVuSans-32\"/>\r\n      <use x=\"170.019531\" xlink:href=\"#DejaVuSans-65\"/>\r\n      <use x=\"236.677734\" xlink:href=\"#DejaVuSans-99\"/>\r\n      <use x=\"291.658203\" xlink:href=\"#DejaVuSans-99\"/>\r\n      <use x=\"346.638672\" xlink:href=\"#DejaVuSans-117\"/>\r\n      <use x=\"410.017578\" xlink:href=\"#DejaVuSans-114\"/>\r\n      <use x=\"451.130859\" xlink:href=\"#DejaVuSans-97\"/>\r\n      <use x=\"512.410156\" xlink:href=\"#DejaVuSans-99\"/>\r\n      <use x=\"567.390625\" xlink:href=\"#DejaVuSans-121\"/>\r\n      <use x=\"626.570312\" xlink:href=\"#DejaVuSans-32\"/>\r\n      <use x=\"658.357422\" xlink:href=\"#DejaVuSans-82\"/>\r\n      <use x=\"725.589844\" xlink:href=\"#DejaVuSans-97\"/>\r\n      <use x=\"786.869141\" xlink:href=\"#DejaVuSans-116\"/>\r\n      <use x=\"826.078125\" xlink:href=\"#DejaVuSans-101\"/>\r\n     </g>\r\n    </g>\r\n   </g>\r\n   <g id=\"line2d_12\">\r\n    <path clip-path=\"url(#p8dd9083b6e)\" d=\"M 65.361932 60.440722 \r\nL 71.702841 60.440722 \r\nL 78.04375 60.440722 \r\nL 84.384659 74.560203 \r\nL 90.725568 60.440722 \r\nL 97.066477 32.201761 \r\nL 103.407386 60.440722 \r\nL 109.748295 32.201761 \r\nL 116.089205 60.440722 \r\nL 122.430114 46.321242 \r\nL 128.771023 74.560203 \r\nL 135.111932 74.560203 \r\nL 141.452841 60.440722 \r\nL 147.79375 46.321242 \r\nL 154.134659 46.321242 \r\nL 160.475568 32.201761 \r\nL 166.816477 74.560203 \r\nL 173.157386 60.440722 \r\nL 179.498295 88.679683 \r\nL 185.839205 74.560203 \r\nL 192.180114 88.679683 \r\nL 198.521023 60.440722 \r\nL 204.861932 74.560203 \r\nL 211.202841 74.560203 \r\nL 217.54375 74.560203 \r\nL 223.884659 74.560203 \r\nL 230.225568 74.560203 \r\nL 236.566477 74.560203 \r\nL 242.907386 74.560203 \r\nL 249.248295 88.679683 \r\nL 255.589205 74.560203 \r\nL 261.930114 88.679683 \r\nL 268.271023 102.799164 \r\nL 274.611932 145.157606 \r\nL 280.952841 145.157606 \r\nL 287.29375 173.396567 \r\nL 293.634659 159.277086 \r\nL 299.975568 173.396567 \r\nL 306.316477 173.396567 \r\nL 312.657386 201.635528 \r\nL 318.998295 187.516047 \r\nL 325.339205 187.516047 \r\nL 331.680114 187.516047 \r\nL 338.021023 201.635528 \r\nL 344.361932 187.516047 \r\nL 350.702841 215.755008 \r\nL 357.04375 215.755008 \r\nL 363.384659 215.755008 \r\nL 369.725568 229.874489 \r\n\" style=\"fill:none;stroke:#0000ff;stroke-linecap:square;stroke-width:1.5;\"/>\r\n    <defs>\r\n     <path d=\"M 0 2.5 \r\nC 0.663008 2.5 1.29895 2.236584 1.767767 1.767767 \r\nC 2.236584 1.29895 2.5 0.663008 2.5 0 \r\nC 2.5 -0.663008 2.236584 -1.29895 1.767767 -1.767767 \r\nC 1.29895 -2.236584 0.663008 -2.5 0 -2.5 \r\nC -0.663008 -2.5 -1.29895 -2.236584 -1.767767 -1.767767 \r\nC -2.236584 -1.29895 -2.5 -0.663008 -2.5 0 \r\nC -2.5 0.663008 -2.236584 1.29895 -1.767767 1.767767 \r\nC -1.29895 2.236584 -0.663008 2.5 0 2.5 \r\nz\r\n\" id=\"me6bf7653c2\" style=\"stroke:#0000ff;\"/>\r\n    </defs>\r\n    <g clip-path=\"url(#p8dd9083b6e)\">\r\n     <use style=\"fill:#ff0000;stroke:#0000ff;\" x=\"65.361932\" xlink:href=\"#me6bf7653c2\" y=\"60.440722\"/>\r\n     <use style=\"fill:#ff0000;stroke:#0000ff;\" x=\"71.702841\" xlink:href=\"#me6bf7653c2\" y=\"60.440722\"/>\r\n     <use style=\"fill:#ff0000;stroke:#0000ff;\" x=\"78.04375\" xlink:href=\"#me6bf7653c2\" y=\"60.440722\"/>\r\n     <use style=\"fill:#ff0000;stroke:#0000ff;\" x=\"84.384659\" xlink:href=\"#me6bf7653c2\" y=\"74.560203\"/>\r\n     <use style=\"fill:#ff0000;stroke:#0000ff;\" x=\"90.725568\" xlink:href=\"#me6bf7653c2\" y=\"60.440722\"/>\r\n     <use style=\"fill:#ff0000;stroke:#0000ff;\" x=\"97.066477\" xlink:href=\"#me6bf7653c2\" y=\"32.201761\"/>\r\n     <use style=\"fill:#ff0000;stroke:#0000ff;\" x=\"103.407386\" xlink:href=\"#me6bf7653c2\" y=\"60.440722\"/>\r\n     <use style=\"fill:#ff0000;stroke:#0000ff;\" x=\"109.748295\" xlink:href=\"#me6bf7653c2\" y=\"32.201761\"/>\r\n     <use style=\"fill:#ff0000;stroke:#0000ff;\" x=\"116.089205\" xlink:href=\"#me6bf7653c2\" y=\"60.440722\"/>\r\n     <use style=\"fill:#ff0000;stroke:#0000ff;\" x=\"122.430114\" xlink:href=\"#me6bf7653c2\" y=\"46.321242\"/>\r\n     <use style=\"fill:#ff0000;stroke:#0000ff;\" x=\"128.771023\" xlink:href=\"#me6bf7653c2\" y=\"74.560203\"/>\r\n     <use style=\"fill:#ff0000;stroke:#0000ff;\" x=\"135.111932\" xlink:href=\"#me6bf7653c2\" y=\"74.560203\"/>\r\n     <use style=\"fill:#ff0000;stroke:#0000ff;\" x=\"141.452841\" xlink:href=\"#me6bf7653c2\" y=\"60.440722\"/>\r\n     <use style=\"fill:#ff0000;stroke:#0000ff;\" x=\"147.79375\" xlink:href=\"#me6bf7653c2\" y=\"46.321242\"/>\r\n     <use style=\"fill:#ff0000;stroke:#0000ff;\" x=\"154.134659\" xlink:href=\"#me6bf7653c2\" y=\"46.321242\"/>\r\n     <use style=\"fill:#ff0000;stroke:#0000ff;\" x=\"160.475568\" xlink:href=\"#me6bf7653c2\" y=\"32.201761\"/>\r\n     <use style=\"fill:#ff0000;stroke:#0000ff;\" x=\"166.816477\" xlink:href=\"#me6bf7653c2\" y=\"74.560203\"/>\r\n     <use style=\"fill:#ff0000;stroke:#0000ff;\" x=\"173.157386\" xlink:href=\"#me6bf7653c2\" y=\"60.440722\"/>\r\n     <use style=\"fill:#ff0000;stroke:#0000ff;\" x=\"179.498295\" xlink:href=\"#me6bf7653c2\" y=\"88.679683\"/>\r\n     <use style=\"fill:#ff0000;stroke:#0000ff;\" x=\"185.839205\" xlink:href=\"#me6bf7653c2\" y=\"74.560203\"/>\r\n     <use style=\"fill:#ff0000;stroke:#0000ff;\" x=\"192.180114\" xlink:href=\"#me6bf7653c2\" y=\"88.679683\"/>\r\n     <use style=\"fill:#ff0000;stroke:#0000ff;\" x=\"198.521023\" xlink:href=\"#me6bf7653c2\" y=\"60.440722\"/>\r\n     <use style=\"fill:#ff0000;stroke:#0000ff;\" x=\"204.861932\" xlink:href=\"#me6bf7653c2\" y=\"74.560203\"/>\r\n     <use style=\"fill:#ff0000;stroke:#0000ff;\" x=\"211.202841\" xlink:href=\"#me6bf7653c2\" y=\"74.560203\"/>\r\n     <use style=\"fill:#ff0000;stroke:#0000ff;\" x=\"217.54375\" xlink:href=\"#me6bf7653c2\" y=\"74.560203\"/>\r\n     <use style=\"fill:#ff0000;stroke:#0000ff;\" x=\"223.884659\" xlink:href=\"#me6bf7653c2\" y=\"74.560203\"/>\r\n     <use style=\"fill:#ff0000;stroke:#0000ff;\" x=\"230.225568\" xlink:href=\"#me6bf7653c2\" y=\"74.560203\"/>\r\n     <use style=\"fill:#ff0000;stroke:#0000ff;\" x=\"236.566477\" xlink:href=\"#me6bf7653c2\" y=\"74.560203\"/>\r\n     <use style=\"fill:#ff0000;stroke:#0000ff;\" x=\"242.907386\" xlink:href=\"#me6bf7653c2\" y=\"74.560203\"/>\r\n     <use style=\"fill:#ff0000;stroke:#0000ff;\" x=\"249.248295\" xlink:href=\"#me6bf7653c2\" y=\"88.679683\"/>\r\n     <use style=\"fill:#ff0000;stroke:#0000ff;\" x=\"255.589205\" xlink:href=\"#me6bf7653c2\" y=\"74.560203\"/>\r\n     <use style=\"fill:#ff0000;stroke:#0000ff;\" x=\"261.930114\" xlink:href=\"#me6bf7653c2\" y=\"88.679683\"/>\r\n     <use style=\"fill:#ff0000;stroke:#0000ff;\" x=\"268.271023\" xlink:href=\"#me6bf7653c2\" y=\"102.799164\"/>\r\n     <use style=\"fill:#ff0000;stroke:#0000ff;\" x=\"274.611932\" xlink:href=\"#me6bf7653c2\" y=\"145.157606\"/>\r\n     <use style=\"fill:#ff0000;stroke:#0000ff;\" x=\"280.952841\" xlink:href=\"#me6bf7653c2\" y=\"145.157606\"/>\r\n     <use style=\"fill:#ff0000;stroke:#0000ff;\" x=\"287.29375\" xlink:href=\"#me6bf7653c2\" y=\"173.396567\"/>\r\n     <use style=\"fill:#ff0000;stroke:#0000ff;\" x=\"293.634659\" xlink:href=\"#me6bf7653c2\" y=\"159.277086\"/>\r\n     <use style=\"fill:#ff0000;stroke:#0000ff;\" x=\"299.975568\" xlink:href=\"#me6bf7653c2\" y=\"173.396567\"/>\r\n     <use style=\"fill:#ff0000;stroke:#0000ff;\" x=\"306.316477\" xlink:href=\"#me6bf7653c2\" y=\"173.396567\"/>\r\n     <use style=\"fill:#ff0000;stroke:#0000ff;\" x=\"312.657386\" xlink:href=\"#me6bf7653c2\" y=\"201.635528\"/>\r\n     <use style=\"fill:#ff0000;stroke:#0000ff;\" x=\"318.998295\" xlink:href=\"#me6bf7653c2\" y=\"187.516047\"/>\r\n     <use style=\"fill:#ff0000;stroke:#0000ff;\" x=\"325.339205\" xlink:href=\"#me6bf7653c2\" y=\"187.516047\"/>\r\n     <use style=\"fill:#ff0000;stroke:#0000ff;\" x=\"331.680114\" xlink:href=\"#me6bf7653c2\" y=\"187.516047\"/>\r\n     <use style=\"fill:#ff0000;stroke:#0000ff;\" x=\"338.021023\" xlink:href=\"#me6bf7653c2\" y=\"201.635528\"/>\r\n     <use style=\"fill:#ff0000;stroke:#0000ff;\" x=\"344.361932\" xlink:href=\"#me6bf7653c2\" y=\"187.516047\"/>\r\n     <use style=\"fill:#ff0000;stroke:#0000ff;\" x=\"350.702841\" xlink:href=\"#me6bf7653c2\" y=\"215.755008\"/>\r\n     <use style=\"fill:#ff0000;stroke:#0000ff;\" x=\"357.04375\" xlink:href=\"#me6bf7653c2\" y=\"215.755008\"/>\r\n     <use style=\"fill:#ff0000;stroke:#0000ff;\" x=\"363.384659\" xlink:href=\"#me6bf7653c2\" y=\"215.755008\"/>\r\n     <use style=\"fill:#ff0000;stroke:#0000ff;\" x=\"369.725568\" xlink:href=\"#me6bf7653c2\" y=\"229.874489\"/>\r\n    </g>\r\n   </g>\r\n   <g id=\"patch_3\">\r\n    <path d=\"M 50.14375 239.758125 \r\nL 50.14375 22.318125 \r\n\" style=\"fill:none;stroke:#000000;stroke-linecap:square;stroke-linejoin:miter;stroke-width:0.8;\"/>\r\n   </g>\r\n   <g id=\"patch_4\">\r\n    <path d=\"M 384.94375 239.758125 \r\nL 384.94375 22.318125 \r\n\" style=\"fill:none;stroke:#000000;stroke-linecap:square;stroke-linejoin:miter;stroke-width:0.8;\"/>\r\n   </g>\r\n   <g id=\"patch_5\">\r\n    <path d=\"M 50.14375 239.758125 \r\nL 384.94375 239.758125 \r\n\" style=\"fill:none;stroke:#000000;stroke-linecap:square;stroke-linejoin:miter;stroke-width:0.8;\"/>\r\n   </g>\r\n   <g id=\"patch_6\">\r\n    <path d=\"M 50.14375 22.318125 \r\nL 384.94375 22.318125 \r\n\" style=\"fill:none;stroke:#000000;stroke-linecap:square;stroke-linejoin:miter;stroke-width:0.8;\"/>\r\n   </g>\r\n   <g id=\"text_14\">\r\n    <!-- CV Accuracy Rates of k (K-Nearest-Neighbors) -->\r\n    <g transform=\"translate(79.976875 16.318125)scale(0.12 -0.12)\">\r\n     <defs>\r\n      <path d=\"M 44.28125 53.078125 \r\nL 44.28125 44.578125 \r\nQ 40.484375 46.53125 36.375 47.5 \r\nQ 32.28125 48.484375 27.875 48.484375 \r\nQ 21.1875 48.484375 17.84375 46.4375 \r\nQ 14.5 44.390625 14.5 40.28125 \r\nQ 14.5 37.15625 16.890625 35.375 \r\nQ 19.28125 33.59375 26.515625 31.984375 \r\nL 29.59375 31.296875 \r\nQ 39.15625 29.25 43.1875 25.515625 \r\nQ 47.21875 21.78125 47.21875 15.09375 \r\nQ 47.21875 7.46875 41.1875 3.015625 \r\nQ 35.15625 -1.421875 24.609375 -1.421875 \r\nQ 20.21875 -1.421875 15.453125 -0.5625 \r\nQ 10.6875 0.296875 5.421875 2 \r\nL 5.421875 11.28125 \r\nQ 10.40625 8.6875 15.234375 7.390625 \r\nQ 20.0625 6.109375 24.8125 6.109375 \r\nQ 31.15625 6.109375 34.5625 8.28125 \r\nQ 37.984375 10.453125 37.984375 14.40625 \r\nQ 37.984375 18.0625 35.515625 20.015625 \r\nQ 33.0625 21.96875 24.703125 23.78125 \r\nL 21.578125 24.515625 \r\nQ 13.234375 26.265625 9.515625 29.90625 \r\nQ 5.8125 33.546875 5.8125 39.890625 \r\nQ 5.8125 47.609375 11.28125 51.796875 \r\nQ 16.75 56 26.8125 56 \r\nQ 31.78125 56 36.171875 55.265625 \r\nQ 40.578125 54.546875 44.28125 53.078125 \r\nz\r\n\" id=\"DejaVuSans-115\"/>\r\n      <path d=\"M 30.609375 48.390625 \r\nQ 23.390625 48.390625 19.1875 42.75 \r\nQ 14.984375 37.109375 14.984375 27.296875 \r\nQ 14.984375 17.484375 19.15625 11.84375 \r\nQ 23.34375 6.203125 30.609375 6.203125 \r\nQ 37.796875 6.203125 41.984375 11.859375 \r\nQ 46.1875 17.53125 46.1875 27.296875 \r\nQ 46.1875 37.015625 41.984375 42.703125 \r\nQ 37.796875 48.390625 30.609375 48.390625 \r\nz\r\nM 30.609375 56 \r\nQ 42.328125 56 49.015625 48.375 \r\nQ 55.71875 40.765625 55.71875 27.296875 \r\nQ 55.71875 13.875 49.015625 6.21875 \r\nQ 42.328125 -1.421875 30.609375 -1.421875 \r\nQ 18.84375 -1.421875 12.171875 6.21875 \r\nQ 5.515625 13.875 5.515625 27.296875 \r\nQ 5.515625 40.765625 12.171875 48.375 \r\nQ 18.84375 56 30.609375 56 \r\nz\r\n\" id=\"DejaVuSans-111\"/>\r\n      <path d=\"M 37.109375 75.984375 \r\nL 37.109375 68.5 \r\nL 28.515625 68.5 \r\nQ 23.6875 68.5 21.796875 66.546875 \r\nQ 19.921875 64.59375 19.921875 59.515625 \r\nL 19.921875 54.6875 \r\nL 34.71875 54.6875 \r\nL 34.71875 47.703125 \r\nL 19.921875 47.703125 \r\nL 19.921875 0 \r\nL 10.890625 0 \r\nL 10.890625 47.703125 \r\nL 2.296875 47.703125 \r\nL 2.296875 54.6875 \r\nL 10.890625 54.6875 \r\nL 10.890625 58.5 \r\nQ 10.890625 67.625 15.140625 71.796875 \r\nQ 19.390625 75.984375 28.609375 75.984375 \r\nz\r\n\" id=\"DejaVuSans-102\"/>\r\n      <path d=\"M 31 75.875 \r\nQ 24.46875 64.65625 21.28125 53.65625 \r\nQ 18.109375 42.671875 18.109375 31.390625 \r\nQ 18.109375 20.125 21.3125 9.0625 \r\nQ 24.515625 -2 31 -13.1875 \r\nL 23.1875 -13.1875 \r\nQ 15.875 -1.703125 12.234375 9.375 \r\nQ 8.59375 20.453125 8.59375 31.390625 \r\nQ 8.59375 42.28125 12.203125 53.3125 \r\nQ 15.828125 64.359375 23.1875 75.875 \r\nz\r\n\" id=\"DejaVuSans-40\"/>\r\n      <path d=\"M 9.8125 72.90625 \r\nL 19.671875 72.90625 \r\nL 19.671875 42.09375 \r\nL 52.390625 72.90625 \r\nL 65.09375 72.90625 \r\nL 28.90625 38.921875 \r\nL 67.671875 0 \r\nL 54.6875 0 \r\nL 19.671875 35.109375 \r\nL 19.671875 0 \r\nL 9.8125 0 \r\nz\r\n\" id=\"DejaVuSans-75\"/>\r\n      <path d=\"M 4.890625 31.390625 \r\nL 31.203125 31.390625 \r\nL 31.203125 23.390625 \r\nL 4.890625 23.390625 \r\nz\r\n\" id=\"DejaVuSans-45\"/>\r\n      <path d=\"M 9.8125 72.90625 \r\nL 23.09375 72.90625 \r\nL 55.421875 11.921875 \r\nL 55.421875 72.90625 \r\nL 64.984375 72.90625 \r\nL 64.984375 0 \r\nL 51.703125 0 \r\nL 19.390625 60.984375 \r\nL 19.390625 0 \r\nL 9.8125 0 \r\nz\r\n\" id=\"DejaVuSans-78\"/>\r\n      <path d=\"M 9.421875 54.6875 \r\nL 18.40625 54.6875 \r\nL 18.40625 0 \r\nL 9.421875 0 \r\nz\r\nM 9.421875 75.984375 \r\nL 18.40625 75.984375 \r\nL 18.40625 64.59375 \r\nL 9.421875 64.59375 \r\nz\r\n\" id=\"DejaVuSans-105\"/>\r\n      <path d=\"M 45.40625 27.984375 \r\nQ 45.40625 37.75 41.375 43.109375 \r\nQ 37.359375 48.484375 30.078125 48.484375 \r\nQ 22.859375 48.484375 18.828125 43.109375 \r\nQ 14.796875 37.75 14.796875 27.984375 \r\nQ 14.796875 18.265625 18.828125 12.890625 \r\nQ 22.859375 7.515625 30.078125 7.515625 \r\nQ 37.359375 7.515625 41.375 12.890625 \r\nQ 45.40625 18.265625 45.40625 27.984375 \r\nz\r\nM 54.390625 6.78125 \r\nQ 54.390625 -7.171875 48.1875 -13.984375 \r\nQ 42 -20.796875 29.203125 -20.796875 \r\nQ 24.46875 -20.796875 20.265625 -20.09375 \r\nQ 16.0625 -19.390625 12.109375 -17.921875 \r\nL 12.109375 -9.1875 \r\nQ 16.0625 -11.328125 19.921875 -12.34375 \r\nQ 23.78125 -13.375 27.78125 -13.375 \r\nQ 36.625 -13.375 41.015625 -8.765625 \r\nQ 45.40625 -4.15625 45.40625 5.171875 \r\nL 45.40625 9.625 \r\nQ 42.625 4.78125 38.28125 2.390625 \r\nQ 33.9375 0 27.875 0 \r\nQ 17.828125 0 11.671875 7.65625 \r\nQ 5.515625 15.328125 5.515625 27.984375 \r\nQ 5.515625 40.671875 11.671875 48.328125 \r\nQ 17.828125 56 27.875 56 \r\nQ 33.9375 56 38.28125 53.609375 \r\nQ 42.625 51.21875 45.40625 46.390625 \r\nL 45.40625 54.6875 \r\nL 54.390625 54.6875 \r\nz\r\n\" id=\"DejaVuSans-103\"/>\r\n      <path d=\"M 54.890625 33.015625 \r\nL 54.890625 0 \r\nL 45.90625 0 \r\nL 45.90625 32.71875 \r\nQ 45.90625 40.484375 42.875 44.328125 \r\nQ 39.84375 48.1875 33.796875 48.1875 \r\nQ 26.515625 48.1875 22.3125 43.546875 \r\nQ 18.109375 38.921875 18.109375 30.90625 \r\nL 18.109375 0 \r\nL 9.078125 0 \r\nL 9.078125 75.984375 \r\nL 18.109375 75.984375 \r\nL 18.109375 46.1875 \r\nQ 21.34375 51.125 25.703125 53.5625 \r\nQ 30.078125 56 35.796875 56 \r\nQ 45.21875 56 50.046875 50.171875 \r\nQ 54.890625 44.34375 54.890625 33.015625 \r\nz\r\n\" id=\"DejaVuSans-104\"/>\r\n      <path d=\"M 48.6875 27.296875 \r\nQ 48.6875 37.203125 44.609375 42.84375 \r\nQ 40.53125 48.484375 33.40625 48.484375 \r\nQ 26.265625 48.484375 22.1875 42.84375 \r\nQ 18.109375 37.203125 18.109375 27.296875 \r\nQ 18.109375 17.390625 22.1875 11.75 \r\nQ 26.265625 6.109375 33.40625 6.109375 \r\nQ 40.53125 6.109375 44.609375 11.75 \r\nQ 48.6875 17.390625 48.6875 27.296875 \r\nz\r\nM 18.109375 46.390625 \r\nQ 20.953125 51.265625 25.265625 53.625 \r\nQ 29.59375 56 35.59375 56 \r\nQ 45.5625 56 51.78125 48.09375 \r\nQ 58.015625 40.1875 58.015625 27.296875 \r\nQ 58.015625 14.40625 51.78125 6.484375 \r\nQ 45.5625 -1.421875 35.59375 -1.421875 \r\nQ 29.59375 -1.421875 25.265625 0.953125 \r\nQ 20.953125 3.328125 18.109375 8.203125 \r\nL 18.109375 0 \r\nL 9.078125 0 \r\nL 9.078125 75.984375 \r\nL 18.109375 75.984375 \r\nz\r\n\" id=\"DejaVuSans-98\"/>\r\n      <path d=\"M 8.015625 75.875 \r\nL 15.828125 75.875 \r\nQ 23.140625 64.359375 26.78125 53.3125 \r\nQ 30.421875 42.28125 30.421875 31.390625 \r\nQ 30.421875 20.453125 26.78125 9.375 \r\nQ 23.140625 -1.703125 15.828125 -13.1875 \r\nL 8.015625 -13.1875 \r\nQ 14.5 -2 17.703125 9.0625 \r\nQ 20.90625 20.125 20.90625 31.390625 \r\nQ 20.90625 42.671875 17.703125 53.65625 \r\nQ 14.5 64.65625 8.015625 75.875 \r\nz\r\n\" id=\"DejaVuSans-41\"/>\r\n     </defs>\r\n     <use xlink:href=\"#DejaVuSans-67\"/>\r\n     <use x=\"69.824219\" xlink:href=\"#DejaVuSans-86\"/>\r\n     <use x=\"138.232422\" xlink:href=\"#DejaVuSans-32\"/>\r\n     <use x=\"170.019531\" xlink:href=\"#DejaVuSans-65\"/>\r\n     <use x=\"236.677734\" xlink:href=\"#DejaVuSans-99\"/>\r\n     <use x=\"291.658203\" xlink:href=\"#DejaVuSans-99\"/>\r\n     <use x=\"346.638672\" xlink:href=\"#DejaVuSans-117\"/>\r\n     <use x=\"410.017578\" xlink:href=\"#DejaVuSans-114\"/>\r\n     <use x=\"451.130859\" xlink:href=\"#DejaVuSans-97\"/>\r\n     <use x=\"512.410156\" xlink:href=\"#DejaVuSans-99\"/>\r\n     <use x=\"567.390625\" xlink:href=\"#DejaVuSans-121\"/>\r\n     <use x=\"626.570312\" xlink:href=\"#DejaVuSans-32\"/>\r\n     <use x=\"658.357422\" xlink:href=\"#DejaVuSans-82\"/>\r\n     <use x=\"725.589844\" xlink:href=\"#DejaVuSans-97\"/>\r\n     <use x=\"786.869141\" xlink:href=\"#DejaVuSans-116\"/>\r\n     <use x=\"826.078125\" xlink:href=\"#DejaVuSans-101\"/>\r\n     <use x=\"887.601562\" xlink:href=\"#DejaVuSans-115\"/>\r\n     <use x=\"939.701172\" xlink:href=\"#DejaVuSans-32\"/>\r\n     <use x=\"971.488281\" xlink:href=\"#DejaVuSans-111\"/>\r\n     <use x=\"1032.669922\" xlink:href=\"#DejaVuSans-102\"/>\r\n     <use x=\"1067.875\" xlink:href=\"#DejaVuSans-32\"/>\r\n     <use x=\"1099.662109\" xlink:href=\"#DejaVuSans-107\"/>\r\n     <use x=\"1157.572266\" xlink:href=\"#DejaVuSans-32\"/>\r\n     <use x=\"1189.359375\" xlink:href=\"#DejaVuSans-40\"/>\r\n     <use x=\"1228.373047\" xlink:href=\"#DejaVuSans-75\"/>\r\n     <use x=\"1283.449219\" xlink:href=\"#DejaVuSans-45\"/>\r\n     <use x=\"1319.533203\" xlink:href=\"#DejaVuSans-78\"/>\r\n     <use x=\"1394.337891\" xlink:href=\"#DejaVuSans-101\"/>\r\n     <use x=\"1455.861328\" xlink:href=\"#DejaVuSans-97\"/>\r\n     <use x=\"1517.140625\" xlink:href=\"#DejaVuSans-114\"/>\r\n     <use x=\"1556.003906\" xlink:href=\"#DejaVuSans-101\"/>\r\n     <use x=\"1617.527344\" xlink:href=\"#DejaVuSans-115\"/>\r\n     <use x=\"1669.626953\" xlink:href=\"#DejaVuSans-116\"/>\r\n     <use x=\"1708.835938\" xlink:href=\"#DejaVuSans-45\"/>\r\n     <use x=\"1744.919922\" xlink:href=\"#DejaVuSans-78\"/>\r\n     <use x=\"1819.724609\" xlink:href=\"#DejaVuSans-101\"/>\r\n     <use x=\"1881.248047\" xlink:href=\"#DejaVuSans-105\"/>\r\n     <use x=\"1909.03125\" xlink:href=\"#DejaVuSans-103\"/>\r\n     <use x=\"1972.507812\" xlink:href=\"#DejaVuSans-104\"/>\r\n     <use x=\"2035.886719\" xlink:href=\"#DejaVuSans-98\"/>\r\n     <use x=\"2099.363281\" xlink:href=\"#DejaVuSans-111\"/>\r\n     <use x=\"2160.544922\" xlink:href=\"#DejaVuSans-114\"/>\r\n     <use x=\"2201.658203\" xlink:href=\"#DejaVuSans-115\"/>\r\n     <use x=\"2253.757812\" xlink:href=\"#DejaVuSans-41\"/>\r\n    </g>\r\n   </g>\r\n  </g>\r\n </g>\r\n <defs>\r\n  <clipPath id=\"p8dd9083b6e\">\r\n   <rect height=\"217.44\" width=\"334.8\" x=\"50.14375\" y=\"22.318125\"/>\r\n  </clipPath>\r\n </defs>\r\n</svg>\r\n",
      "image/png": "[encoded data removed]"
     },
     "metadata": {
      "needs_background": "light"
     }
    }
   ],
   "source": [
    "# create a line graph for testing accuracy\n",
    "import matplotlib.pyplot as plt\n",
    "plt.plot(k_range, scores_cv, 'y', color='blue',marker='o', markerfacecolor='red', markersize='5')\n",
    "plt.xlabel('k value ')\n",
    "plt.ylabel('CV Accuracy Rate')\n",
    "plt.title('CV Accuracy Rates of k (K-Nearest-Neighbors)')\n",
    "plt.show()"
   ]
  },
  {
   "cell_type": "code",
   "execution_count": 27,
   "metadata": {},
   "outputs": [
    {
     "output_type": "stream",
     "name": "stdout",
     "text": [
      "best k =  7 accuracy =  0.9666666666666668\n"
     ]
    }
   ],
   "source": [
    "# find best k with the highest cv accuracy\n",
    "import operator\n",
    "index, value = max(enumerate(scores_cv), key=operator.itemgetter(1))\n",
    "print('best k = ', index, 'accuracy = ', value)"
   ]
  },
  {
   "cell_type": "markdown",
   "metadata": {},
   "source": [
    "### 8. KNN: Model Creation\n",
    "Creating KNN model from the entrie data set, with the best k found in the previous step."
   ]
  },
  {
   "cell_type": "code",
   "execution_count": 28,
   "metadata": {},
   "outputs": [
    {
     "output_type": "execute_result",
     "data": {
      "text/plain": [
       "KNeighborsClassifier(metric='euclidean', n_neighbors=7)"
      ]
     },
     "metadata": {},
     "execution_count": 28
    }
   ],
   "source": [
    "#Step 1: Import the sklearn class\n",
    "from sklearn.neighbors import KNeighborsClassifier\n",
    "\n",
    "#Step 2: Create the model object with paramenters\n",
    "#Create an instance of KNeighborsClassifier with k=7 (best k) \n",
    "best_knn = KNeighborsClassifier(n_neighbors=7, metric = 'euclidean') \n",
    "\n",
    "#Step 3: Fit the model with data (model training)\n",
    "#Model is learning the relationship between data (X) and class(Y)\n",
    "best_knn.fit(X,Y)"
   ]
  },
  {
   "cell_type": "markdown",
   "metadata": {},
   "source": [
    "### 9. KNN: Deploying the model \n",
    "Use the created model to predict class label(s) for new data instance(s)"
   ]
  },
  {
   "cell_type": "code",
   "execution_count": 29,
   "metadata": {},
   "outputs": [
    {
     "output_type": "execute_result",
     "data": {
      "text/plain": [
       "array(['setosa', 'setosa'], dtype=object)"
      ]
     },
     "metadata": {},
     "execution_count": 29
    }
   ],
   "source": [
    "# Predict the class label for new record(s)\n",
    "X_new = [[3, 5, 4, 2], [5, 4, 3, 2]]  # (1) define/read 2 new instances\n",
    "X_new = sc.transform(X_new) # (2) normalize them using the normalization model created previously (sc is StandardScaler)\n",
    "best_knn.predict(X_new) # (3) predict their class lables"
   ]
  },
  {
   "cell_type": "markdown",
   "metadata": {},
   "source": [
    "# The END^^"
   ]
  }
 ],
 "metadata": {
  "kernelspec": {
   "name": "Python 3.8.5 64-bit",
   "display_name": "Python 3.8.5 64-bit",
   "metadata": {
    "interpreter": {
     "hash": "e404b59586357c814bc0d3940e75d6763c00a48753b225b81f7716971b8e1741"
    }
   }
  },
  "language_info": {
   "codemirror_mode": {
    "name": "ipython",
    "version": 3
   },
   "file_extension": ".py",
   "mimetype": "text/x-python",
   "name": "python",
   "nbconvert_exporter": "python",
   "pygments_lexer": "ipython3",
   "version": "3.8.5-final"
  }
 },
 "nbformat": 4,
 "nbformat_minor": 4
}